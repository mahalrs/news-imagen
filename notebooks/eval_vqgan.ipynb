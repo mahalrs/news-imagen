{
 "cells": [
  {
   "cell_type": "markdown",
   "metadata": {},
   "source": [
    "## Evaluate VQGAN"
   ]
  },
  {
   "cell_type": "markdown",
   "metadata": {
    "tags": []
   },
   "source": [
    "### Set up"
   ]
  },
  {
   "cell_type": "code",
   "execution_count": null,
   "metadata": {
    "tags": []
   },
   "outputs": [],
   "source": [
    "import sys\n",
    "sys.path.append('../src')"
   ]
  },
  {
   "cell_type": "code",
   "execution_count": null,
   "metadata": {
    "tags": []
   },
   "outputs": [],
   "source": [
    "import json\n",
    "\n",
    "import torch\n",
    "import lightning.pytorch as pl\n",
    "from torchvision import transforms\n",
    "from torch.utils.data import DataLoader\n",
    "\n",
    "from vqgan.model import VQModel\n",
    "from data import VQVisualNewsDataset"
   ]
  },
  {
   "cell_type": "code",
   "execution_count": null,
   "metadata": {},
   "outputs": [],
   "source": [
    "import io\n",
    "\n",
    "import torchvision\n",
    "import numpy as np\n",
    "import matplotlib.pyplot as plt\n",
    "import requests\n",
    "\n",
    "from PIL import Image\n",
    "\n",
    "\n",
    "def download_image(url):\n",
    "    resp = requests.get(url)\n",
    "    resp.raise_for_status()\n",
    "    return Image.open(io.BytesIO(resp.content))\n",
    "\n",
    "\n",
    "def imshow(img, title=None):\n",
    "    img = img / 2 + 0.5  # unnormalize\n",
    "    npimg = img.numpy()\n",
    "    img = np.transpose(npimg, (1, 2, 0))\n",
    "    plt.imshow(img)\n",
    "    if title is not None:\n",
    "        plt.title(title)\n",
    "    plt.axis('off')\n",
    "\n",
    "def show_random_batch(data_loader):\n",
    "    # Get a random batch\n",
    "    images = next(iter(data_loader))\n",
    "\n",
    "    imshow(torchvision.utils.make_grid(images))\n",
    "    plt.show()\n",
    "\n",
    "\n",
    "def visualize_model_batch(model, batch):\n",
    "    # disable grads + batchnorm + dropout\n",
    "    torch.set_grad_enabled(False)\n",
    "    model.eval()\n",
    "    \n",
    "    # Encoded image tokens\n",
    "    quant_states, loss, info = model.encode(batch)\n",
    "    \n",
    "    # Decode image tokens, i.e. reconstruct image from image tokens\n",
    "    rec = model.decode(quant_states)\n",
    "    \n",
    "    # Display\n",
    "    imshow(torchvision.utils.make_grid(batch), 'Original')\n",
    "    plt.show()\n",
    "    imshow(torchvision.utils.make_grid(rec.detach()), 'Reconstructed')\n",
    "    plt.show()\n",
    "    \n",
    "    # enable grads + batchnorm + dropout\n",
    "    torch.set_grad_enabled(True)\n",
    "    model.train()\n",
    "    return rec.detach()\n",
    "\n",
    "\n",
    "def visualize_model(model, data_loader):\n",
    "    # Get a random batch\n",
    "    images = next(iter(data_loader))\n",
    "    \n",
    "    visualize_model_batch(model, images)"
   ]
  },
  {
   "cell_type": "code",
   "execution_count": null,
   "metadata": {
    "tags": []
   },
   "outputs": [],
   "source": [
    "with open('../src/hparams_vqgan.json', 'r') as f:\n",
    "        hparams = json.load(f)"
   ]
  },
  {
   "cell_type": "code",
   "execution_count": null,
   "metadata": {
    "tags": []
   },
   "outputs": [],
   "source": [
    "transform = transforms.Compose([\n",
    "    transforms.Resize((256, 256)),\n",
    "    transforms.ToTensor(),\n",
    "    transforms.Normalize(mean=[0.5, 0.5, 0.5], std=[0.5, 0.5, 0.5])\n",
    "])"
   ]
  },
  {
   "cell_type": "code",
   "execution_count": null,
   "metadata": {
    "tags": []
   },
   "outputs": [],
   "source": [
    "test_set = VQVisualNewsDataset('../src/data/visual_news_mini', 'test', transform)\n",
    "test_loader = DataLoader(test_set,\n",
    "                         batch_size=4,\n",
    "                         shuffle=False,\n",
    "                         num_workers=0,\n",
    "                         pin_memory=True)"
   ]
  },
  {
   "cell_type": "code",
   "execution_count": null,
   "metadata": {},
   "outputs": [],
   "source": [
    "test_iter = iter(test_loader)\n",
    "batch1 = next(test_iter)\n",
    "batch2 = next(test_iter)"
   ]
  },
  {
   "cell_type": "markdown",
   "metadata": {},
   "source": [
    "### Pre-trained VQGAN Model\n",
    "\n",
    "Pre-trained checkpoint trained on ImageNet for 12 epochs (~30k steps)"
   ]
  },
  {
   "cell_type": "code",
   "execution_count": null,
   "metadata": {},
   "outputs": [],
   "source": [
    "# NOTE: If using the downloaded checkpoint, process it before using it\n",
    "! python ../src/process_pretrained_vqgan.py --pretrained_vqgan ../src/pretrained/vqgan.ckpt\n",
    "! python -m lightning.pytorch.utilities.upgrade_checkpoint ../src/pretrained/vqgan.ckpt"
   ]
  },
  {
   "cell_type": "code",
   "execution_count": null,
   "metadata": {
    "tags": []
   },
   "outputs": [],
   "source": [
    "model = VQModel.load_from_checkpoint('../src/pretrained/vqgan.ckpt', **hparams)\n",
    "model.init_lpips_from_pretrained('../src/pretrained/vgg.pth')"
   ]
  },
  {
   "cell_type": "code",
   "execution_count": null,
   "metadata": {},
   "outputs": [],
   "source": [
    "rec_ori_b1 = visualize_model_batch(model, batch1)\n",
    "rec_ori_b2 = visualize_model_batch(model, batch2)"
   ]
  },
  {
   "cell_type": "markdown",
   "metadata": {},
   "source": [
    "### Load VQGAN Experiment 1\n",
    "\n",
    "Original model fine-tuned on news dataset for 1 epoch"
   ]
  },
  {
   "cell_type": "code",
   "execution_count": null,
   "metadata": {},
   "outputs": [],
   "source": [
    "model = VQModel.load_from_checkpoint('../src/pretrained/exp1.ckpt', **hparams)\n",
    "model.init_lpips_from_pretrained('../src/pretrained/vgg.pth')"
   ]
  },
  {
   "cell_type": "code",
   "execution_count": null,
   "metadata": {},
   "outputs": [],
   "source": [
    "rec_exp1_b1 = visualize_model_batch(model, batch1)\n",
    "rec_exp1_b2 = visualize_model_batch(model, batch2)"
   ]
  },
  {
   "cell_type": "markdown",
   "metadata": {},
   "source": [
    "### Load VQGAN Experiment 2\n",
    "\n",
    "Original model fine-tuned on news dataset for 3 epochs"
   ]
  },
  {
   "cell_type": "code",
   "execution_count": null,
   "metadata": {},
   "outputs": [],
   "source": [
    "model = VQModel.load_from_checkpoint('../src/pretrained/exp2.ckpt', **hparams)\n",
    "model.init_lpips_from_pretrained('../src/pretrained/vgg.pth')"
   ]
  },
  {
   "cell_type": "code",
   "execution_count": null,
   "metadata": {},
   "outputs": [],
   "source": [
    "rec_exp2_b1 = visualize_model_batch(model, batch1)\n",
    "rec_exp2_b2 = visualize_model_batch(model, batch2)"
   ]
  },
  {
   "cell_type": "markdown",
   "metadata": {
    "tags": []
   },
   "source": [
    "### Evaluate\n",
    "\n",
    "- Peak Signal-to-Noise Ratio (PSNR)\n",
    "- Structural Similarity Index (SSIM)\n",
    "- Learned Perceptual Image Patch Similarity (LPIPS)"
   ]
  },
  {
   "cell_type": "code",
   "execution_count": null,
   "metadata": {},
   "outputs": [],
   "source": [
    "from torchmetrics import PeakSignalNoiseRatio, StructuralSimilarityIndexMeasure\n",
    "from torchmetrics.image.lpip import LearnedPerceptualImagePatchSimilarity\n",
    "import torchvision.transforms.functional as TF"
   ]
  },
  {
   "cell_type": "code",
   "execution_count": null,
   "metadata": {},
   "outputs": [],
   "source": [
    "psnr = PeakSignalNoiseRatio()\n",
    "ssim = StructuralSimilarityIndexMeasure(data_range=1.0)\n",
    "lpips = LearnedPerceptualImagePatchSimilarity(net_type='vgg')"
   ]
  },
  {
   "cell_type": "code",
   "execution_count": null,
   "metadata": {},
   "outputs": [],
   "source": [
    "psnr_b1 = psnr(rec_ori_b1, batch1)\n",
    "psnr_b2 = psnr(rec_ori_b2, batch2)\n",
    "\n",
    "print('Higher PSNR is better')\n",
    "\n",
    "print('\\nPre-trained model PSNR:')\n",
    "print('  Batch 1:', psnr_b1)\n",
    "print('  Batch 2:', psnr_b2)\n",
    "\n",
    "psnr_b1 = psnr(rec_exp1_b1, batch1)\n",
    "psnr_b2 = psnr(rec_exp1_b2, batch2)\n",
    "\n",
    "print('\\nExperiment 1 model PSNR:')\n",
    "print('  Batch 1:', psnr_b1)\n",
    "print('  Batch 2:', psnr_b2)\n",
    "\n",
    "psnr_b1 = psnr(rec_exp2_b1, batch1)\n",
    "psnr_b2 = psnr(rec_exp2_b2, batch2)\n",
    "\n",
    "print('\\nExperiment 2 model PSNR:')\n",
    "print('  Batch 1:', psnr_b1)\n",
    "print('  Batch 2:', psnr_b2)"
   ]
  },
  {
   "cell_type": "code",
   "execution_count": null,
   "metadata": {},
   "outputs": [],
   "source": [
    "ssim_b1 = ssim(rec_ori_b1, batch1)\n",
    "ssim_b2 = ssim(rec_ori_b2, batch2)\n",
    "\n",
    "print('Higher SSIM is better')\n",
    "\n",
    "print('\\nPre-trained model SSIM:')\n",
    "print('  Batch 1:', ssim_b1)\n",
    "print('  Batch 2:', ssim_b2)\n",
    "\n",
    "ssim_b1 = ssim(rec_exp1_b1, batch1)\n",
    "ssim_b2 = ssim(rec_exp1_b2, batch2)\n",
    "\n",
    "print('\\nExperiment 1 model SSIM:')\n",
    "print('  Batch 1:', ssim_b1)\n",
    "print('  Batch 2:', ssim_b2)\n",
    "\n",
    "ssim_b1 = ssim(rec_exp1_b1, batch1)\n",
    "ssim_b2 = ssim(rec_exp1_b2, batch2)\n",
    "\n",
    "print('\\nExperiment 2 model SSIM:')\n",
    "print('  Batch 1:', ssim_b1)\n",
    "print('  Batch 2:', ssim_b2)"
   ]
  },
  {
   "cell_type": "code",
   "execution_count": null,
   "metadata": {},
   "outputs": [],
   "source": [
    "def normalize_batch(batch):\n",
    "    batch = batch / 2 + 0.5  # unnormalize\n",
    "    batch = (batch / 255.0) * 2 - 1\n",
    "    return torch.clamp(batch, min=-1.0, max=1.0)\n",
    "\n",
    "lpips_b1 = lpips(normalize_batch(rec_ori_b1), normalize_batch(batch1))\n",
    "lpips_b2 = lpips(normalize_batch(rec_ori_b2), normalize_batch(batch2))\n",
    "\n",
    "print('Lower LPIPS is better')\n",
    "\n",
    "print('\\nPre-trained model LPIPS:')\n",
    "print('  Batch 1:', lpips_b1.item())\n",
    "print('  Batch 2:', lpips_b2.item())\n",
    "\n",
    "lpips_b1 = lpips(normalize_batch(rec_exp1_b1), normalize_batch(batch1))\n",
    "lpips_b2 = lpips(normalize_batch(rec_exp1_b2), normalize_batch(batch2))\n",
    "\n",
    "print('\\nExperiment 1 model LPIPS:')\n",
    "print('  Batch 1:', lpips_b1.item())\n",
    "print('  Batch 2:', lpips_b2.item())\n",
    "\n",
    "lpips_b1 = lpips(normalize_batch(rec_exp2_b1), normalize_batch(batch1))\n",
    "lpips_b2 = lpips(normalize_batch(rec_exp2_b2), normalize_batch(batch2))\n",
    "\n",
    "print('\\nExperiment 2 model LPIPS:')\n",
    "print('  Batch 1:', lpips_b1.item())\n",
    "print('  Batch 2:', lpips_b2.item())"
   ]
  },
  {
   "cell_type": "code",
   "execution_count": null,
   "metadata": {},
   "outputs": [],
   "source": []
  }
 ],
 "metadata": {
  "environment": {
   "kernel": "python3",
   "name": "pytorch-gpu.1-13.m107",
   "type": "gcloud",
   "uri": "gcr.io/deeplearning-platform-release/pytorch-gpu.1-13:m107"
  },
  "kernelspec": {
   "display_name": "Python 3",
   "language": "python",
   "name": "python3"
  },
  "language_info": {
   "codemirror_mode": {
    "name": "ipython",
    "version": 3
   },
   "file_extension": ".py",
   "mimetype": "text/x-python",
   "name": "python",
   "nbconvert_exporter": "python",
   "pygments_lexer": "ipython3",
   "version": "3.7.12"
  }
 },
 "nbformat": 4,
 "nbformat_minor": 4
}
