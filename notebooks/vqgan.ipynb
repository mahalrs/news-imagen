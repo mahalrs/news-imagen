{
 "cells": [
  {
   "cell_type": "markdown",
   "metadata": {},
   "source": [
    "## VQGAN"
   ]
  },
  {
   "cell_type": "markdown",
   "metadata": {},
   "source": [
    "### Download checkpoints\n",
    "\n",
    "- Download pre-trained VQGAN checkpoint from https://heibox.uni-heidelberg.de/d/a7530b09fed84f80a887/\n",
    "- Download pre-trained LPIPS checkpoint from https://heibox.uni-heidelberg.de/f/607503859c864bc1b30b/?dl=1"
   ]
  },
  {
   "cell_type": "markdown",
   "metadata": {},
   "source": [
    "### Load model"
   ]
  },
  {
   "cell_type": "code",
   "execution_count": null,
   "metadata": {
    "tags": []
   },
   "outputs": [],
   "source": [
    "import sys\n",
    "sys.path.append('../src')"
   ]
  },
  {
   "cell_type": "code",
   "execution_count": null,
   "metadata": {},
   "outputs": [],
   "source": [
    "import torch\n",
    "\n",
    "from torchvision import transforms\n",
    "from torch.utils.data import DataLoader\n",
    "\n",
    "from vqgan.model import VQModel\n",
    "from data import VQVisualNewsDataset"
   ]
  },
  {
   "cell_type": "code",
   "execution_count": null,
   "metadata": {},
   "outputs": [],
   "source": [
    "ddconfig = {\n",
    "    'double_z': False,\n",
    "    'z_channels': 256,\n",
    "    'resolution': 256,\n",
    "    'in_channels': 3,\n",
    "    'out_ch': 3,\n",
    "    'ch': 128,\n",
    "    'ch_mult': [1, 1, 2, 2, 4],\n",
    "    'num_res_blocks': 2,\n",
    "    'attn_resolutions': [16],\n",
    "    'dropout': 0.0\n",
    "}\n",
    "\n",
    "lossconfig = {\n",
    "    'disc_conditional': False,\n",
    "    'disc_in_channels': 3,\n",
    "    'disc_start': 0,\n",
    "    'disc_weight': 0.75,\n",
    "    'disc_num_layers': 2,\n",
    "    'codebook_weight': 1.0,\n",
    "    'lpips_ckpt_path': '../src/checkpoints/lpips/vgg.pth'\n",
    "}\n",
    "\n",
    "config = {'ddconfig': ddconfig, 'lossconfig': lossconfig, 'n_embed': 16384, 'embed_dim': 256}"
   ]
  },
  {
   "cell_type": "code",
   "execution_count": null,
   "metadata": {
    "tags": []
   },
   "outputs": [],
   "source": [
    "# ckpt = torch.load('../src/checkpoints/vqgan/last.ckpt', map_location='cpu')\n",
    "# ckpt.keys()\n",
    "# # dict_keys(['epoch', 'global_step', 'pytorch-lightning_version', 'callbacks', 'optimizer_states', 'lr_schedulers', 'state_dict'])"
   ]
  },
  {
   "cell_type": "code",
   "execution_count": null,
   "metadata": {
    "tags": []
   },
   "outputs": [],
   "source": [
    "model = VQModel.from_checkpoint('../src/checkpoints/vqgan/last.ckpt', config)"
   ]
  },
  {
   "cell_type": "code",
   "execution_count": null,
   "metadata": {
    "tags": []
   },
   "outputs": [],
   "source": [
    "transform = transforms.Compose([\n",
    "    transforms.Resize((256, 256)),\n",
    "    transforms.ToTensor(),\n",
    "    transforms.Normalize(mean=[0.5, 0.5, 0.5], std=[0.5, 0.5, 0.5])\n",
    "])"
   ]
  },
  {
   "cell_type": "code",
   "execution_count": null,
   "metadata": {
    "tags": []
   },
   "outputs": [],
   "source": [
    "train_set = VQVisualNewsDataset('../src/data/visual_news_mini', transform)"
   ]
  },
  {
   "cell_type": "code",
   "execution_count": null,
   "metadata": {
    "tags": []
   },
   "outputs": [],
   "source": [
    "train_loader = DataLoader(train_set, batch_size=4, shuffle=True, num_workers=0, pin_memory=True)"
   ]
  },
  {
   "cell_type": "code",
   "execution_count": null,
   "metadata": {},
   "outputs": [],
   "source": [
    "import io\n",
    "\n",
    "import torchvision\n",
    "import numpy as np\n",
    "import matplotlib.pyplot as plt\n",
    "import requests\n",
    "\n",
    "from PIL import Image\n",
    "\n",
    "\n",
    "def download_image(url):\n",
    "    resp = requests.get(url)\n",
    "    resp.raise_for_status()\n",
    "    return Image.open(io.BytesIO(resp.content))\n",
    "\n",
    "\n",
    "def imshow(img, title=None):\n",
    "    img = img / 2 + 0.5  # unnormalize\n",
    "    npimg = img.numpy()\n",
    "    img = np.transpose(npimg, (1, 2, 0))\n",
    "    plt.imshow(img)\n",
    "    if title is not None:\n",
    "        plt.title(title)\n",
    "    plt.axis('off')\n",
    "\n",
    "    \n",
    "def show_random_batch(data_loader):\n",
    "    # Get a random batch\n",
    "    images = next(iter(data_loader))\n",
    "\n",
    "    imshow(torchvision.utils.make_grid(images))\n",
    "    plt.show()\n",
    "\n",
    "\n",
    "def visualize_model_batch(batch):\n",
    "    # Encoded image tokens\n",
    "    quant_states, loss, info = model.encode(batch)\n",
    "    \n",
    "    # Decode image tokens, i.e. reconstruct image from image tokens\n",
    "    rec = model.decode(quant_states)\n",
    "    \n",
    "    # Display\n",
    "    imshow(torchvision.utils.make_grid(batch), 'Original')\n",
    "    plt.show()\n",
    "    imshow(torchvision.utils.make_grid(rec.detach()), 'Reconstructed')\n",
    "    plt.show()\n",
    "\n",
    "\n",
    "def visualize_model(data_loader):\n",
    "    # Get a random batch\n",
    "    images = next(iter(data_loader))\n",
    "    \n",
    "    visualize_model_batch(images)"
   ]
  },
  {
   "cell_type": "code",
   "execution_count": null,
   "metadata": {
    "tags": []
   },
   "outputs": [],
   "source": [
    "show_random_batch(train_loader)"
   ]
  },
  {
   "cell_type": "code",
   "execution_count": null,
   "metadata": {
    "tags": []
   },
   "outputs": [],
   "source": [
    "visualize_model(train_loader)"
   ]
  },
  {
   "cell_type": "code",
   "execution_count": null,
   "metadata": {
    "tags": []
   },
   "outputs": [],
   "source": [
    "# Download an image, encode it, and then reconstruct\n",
    "\n",
    "# Load the image\n",
    "sample_img = download_image('https://heibox.uni-heidelberg.de/f/7bb608381aae4539ba7a/?dl=1')\n",
    "\n",
    "# Preprocess the image using the transformation pipeline\n",
    "sample_tensor = transform(sample_img)\n",
    "\n",
    "# Add a batch dimension to the tensor\n",
    "sample_batch = sample_tensor.unsqueeze(0)\n",
    "\n",
    "visualize_model_batch(sample_batch)"
   ]
  },
  {
   "cell_type": "markdown",
   "metadata": {},
   "source": [
    "## Train"
   ]
  },
  {
   "cell_type": "code",
   "execution_count": null,
   "metadata": {
    "tags": []
   },
   "outputs": [],
   "source": [
    "# Set up the optimizer for the autoencoder and discriminator\n",
    "base_lr = 4.5e-06\n",
    "opt_ae, opt_disc = model.configure_optimizers(learning_rate=base_lr)\n",
    "\n",
    "opt_states = torch.load('../src/checkpoints/vqgan/last.ckpt', map_location='cpu')['optimizer_states']\n",
    "opt_ae.load_state_dict(opt_states[0])\n",
    "opt_disc.load_state_dict(opt_states[1])"
   ]
  },
  {
   "cell_type": "code",
   "execution_count": null,
   "metadata": {
    "tags": []
   },
   "outputs": [],
   "source": [
    "# Training loop\n",
    "\n",
    "for epoch in range(1):\n",
    "    print('\\nEpoch:', epoch + 1)\n",
    "    for i, inputs in enumerate(train_loader):\n",
    "        # Update the autoencoder\n",
    "        aeloss, log_dict_ae = model.training_step(inputs, 0)\n",
    "        \n",
    "        # Update the discriminator\n",
    "        discloss, log_dict_disc = model.training_step(inputs, 1)\n",
    "        \n",
    "        # Update global step\n",
    "        model.step()\n",
    "        \n",
    "        # Print statistics every 2 mini-batches\n",
    "        if i % 2 == 0:\n",
    "            print('  step:', i, 'ae_loss:', aeloss.item(), 'disc_loss:', discloss.item())\n",
    "        \n",
    "        # For now, let's train for 10 mini-batches\n",
    "        if i >= 10:\n",
    "            break"
   ]
  },
  {
   "cell_type": "code",
   "execution_count": null,
   "metadata": {},
   "outputs": [],
   "source": [
    "visualize_model(train_loader)"
   ]
  },
  {
   "cell_type": "code",
   "execution_count": null,
   "metadata": {
    "tags": []
   },
   "outputs": [],
   "source": [
    "visualize_model_batch(sample_batch)"
   ]
  },
  {
   "cell_type": "code",
   "execution_count": null,
   "metadata": {},
   "outputs": [],
   "source": [
    "#save model\n",
    "PATH = \"../src/checkpoints/vqgan/finetuned.ckpt\"\n",
    "\n",
    "torch.save({\n",
    "    'epoch': 1,\n",
    "    'optimizer_states': [opt_ae.state_dict(), opt_disc.state_dict()],\n",
    "    'lr_schedulers': base_lr,\n",
    "    'state_dict': model.state_dict()\n",
    "}, PATH)"
   ]
  },
  {
   "cell_type": "code",
   "execution_count": null,
   "metadata": {},
   "outputs": [],
   "source": [
    "#load model\n",
    "checkpoint = torch.load(PATH, map_location='cpu')\n",
    "model.load_state_dict(checkpoint['state_dict'])\n",
    "opt_states = checkpoint['optimizer_states']\n",
    "opt_ae.load_state_dict(opt_states[0])\n",
    "opt_disc.load_state_dict(opt_states[1])\n",
    "epoch = checkpoint['epoch']"
   ]
  },
  {
   "cell_type": "code",
   "execution_count": null,
   "metadata": {},
   "outputs": [],
   "source": [
    "visualize_model(train_loader)"
   ]
  }
 ],
 "metadata": {
  "environment": {
   "kernel": "python3",
   "name": "pytorch-gpu.1-13.m107",
   "type": "gcloud",
   "uri": "gcr.io/deeplearning-platform-release/pytorch-gpu.1-13:m107"
  },
  "kernelspec": {
   "display_name": "Python 3 (ipykernel)",
   "language": "python",
   "name": "python3"
  },
  "language_info": {
   "codemirror_mode": {
    "name": "ipython",
    "version": 3
   },
   "file_extension": ".py",
   "mimetype": "text/x-python",
   "name": "python",
   "nbconvert_exporter": "python",
   "pygments_lexer": "ipython3",
   "version": "3.11.2"
  }
 },
 "nbformat": 4,
 "nbformat_minor": 4
}
