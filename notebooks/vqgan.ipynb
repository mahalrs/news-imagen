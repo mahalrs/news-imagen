{
 "cells": [
  {
   "cell_type": "markdown",
   "metadata": {},
   "source": [
    "## VQGAN"
   ]
  },
  {
   "cell_type": "markdown",
   "metadata": {},
   "source": [
    "### Download checkpoints\n",
    "- Download pre-trained VQGAN checkpoint from https://heibox.uni-heidelberg.de/d/a7530b09fed84f80a887/\n",
    "- Download pre-trained LPIPS checkpoint from https://heibox.uni-heidelberg.de/f/607503859c864bc1b30b/"
   ]
  },
  {
   "cell_type": "markdown",
   "metadata": {
    "tags": []
   },
   "source": [
    "### Load model"
   ]
  },
  {
   "cell_type": "code",
   "execution_count": null,
   "metadata": {
    "tags": []
   },
   "outputs": [],
   "source": [
    "import sys\n",
    "sys.path.append('../src')"
   ]
  },
  {
   "cell_type": "code",
   "execution_count": null,
   "metadata": {
    "tags": []
   },
   "outputs": [],
   "source": [
    "import json\n",
    "\n",
    "import torch\n",
    "import lightning.pytorch as pl\n",
    "from torchvision import transforms\n",
    "from torch.utils.data import DataLoader\n",
    "\n",
    "from vqgan.model import VQModel\n",
    "from data import VQVisualNewsDataset"
   ]
  },
  {
   "cell_type": "code",
   "execution_count": null,
   "metadata": {
    "tags": []
   },
   "outputs": [],
   "source": [
    "with open('../src/hparams_vqgan.json', 'r') as f:\n",
    "        hparams = json.load(f)"
   ]
  },
  {
   "cell_type": "code",
   "execution_count": null,
   "metadata": {
    "tags": []
   },
   "outputs": [],
   "source": [
    "transform = transforms.Compose([\n",
    "    transforms.Resize((256, 256)),\n",
    "    transforms.ToTensor(),\n",
    "    transforms.Normalize(mean=[0.5, 0.5, 0.5], std=[0.5, 0.5, 0.5])\n",
    "])"
   ]
  },
  {
   "cell_type": "code",
   "execution_count": null,
   "metadata": {
    "tags": []
   },
   "outputs": [],
   "source": [
    "train_set = VQVisualNewsDataset('../src/data/visual_news_mini', 'train', transform)\n",
    "train_loader = DataLoader(train_set,\n",
    "                         batch_size=2,\n",
    "                         shuffle=False,\n",
    "                         num_workers=0,\n",
    "                         pin_memory=True)"
   ]
  },
  {
   "cell_type": "code",
   "execution_count": null,
   "metadata": {
    "tags": []
   },
   "outputs": [],
   "source": [
    "# NOTE: If using the downloaded checkpoint, process it before using it\n",
    "! python ../src/process_pretrained_vqgan.py --pretrained_vqgan ../src/pretrained/vqgan.ckpt\n",
    "! python -m lightning.pytorch.utilities.upgrade_checkpoint ../src/pretrained/vqgan.ckpt"
   ]
  },
  {
   "cell_type": "code",
   "execution_count": null,
   "metadata": {
    "tags": []
   },
   "outputs": [],
   "source": [
    "model = VQModel.load_from_checkpoint('../src/pretrained/vqgan.ckpt', **hparams)\n",
    "model.init_lpips_from_pretrained('../src/pretrained/vgg.pth')"
   ]
  },
  {
   "cell_type": "code",
   "execution_count": null,
   "metadata": {
    "tags": []
   },
   "outputs": [],
   "source": [
    "# Train for 1 epoch\n",
    "trainer = pl.Trainer(accelerator='cpu', max_epochs=1)\n",
    "trainer.fit(model, ckpt_path='../src/pretrained/vqgan.ckpt', train_dataloaders=train_loader)"
   ]
  },
  {
   "cell_type": "code",
   "execution_count": null,
   "metadata": {
    "tags": []
   },
   "outputs": [],
   "source": [
    "import io\n",
    "\n",
    "import torchvision\n",
    "import numpy as np\n",
    "import matplotlib.pyplot as plt\n",
    "import requests\n",
    "\n",
    "from PIL import Image\n",
    "\n",
    "\n",
    "def download_image(url):\n",
    "    resp = requests.get(url)\n",
    "    resp.raise_for_status()\n",
    "    return Image.open(io.BytesIO(resp.content))\n",
    "\n",
    "\n",
    "def imshow(img, title=None):\n",
    "    img = img / 2 + 0.5  # unnormalize\n",
    "    npimg = img.numpy()\n",
    "    img = np.transpose(npimg, (1, 2, 0))\n",
    "    plt.imshow(img)\n",
    "    if title is not None:\n",
    "        plt.title(title)\n",
    "    plt.axis('off')\n",
    "\n",
    "    \n",
    "def show_random_batch(data_loader):\n",
    "    # Get a random batch\n",
    "    images = next(iter(data_loader))\n",
    "\n",
    "    imshow(torchvision.utils.make_grid(images))\n",
    "    plt.show()\n",
    "\n",
    "\n",
    "def visualize_model_batch(batch):\n",
    "    # disable grads + batchnorm + dropout\n",
    "    torch.set_grad_enabled(False)\n",
    "    model.eval()\n",
    "    \n",
    "    # Encoded image tokens\n",
    "    quant_states, loss, info = model.encode(batch)\n",
    "    \n",
    "    # Decode image tokens, i.e. reconstruct image from image tokens\n",
    "    rec = model.decode(quant_states)\n",
    "    \n",
    "    # Display\n",
    "    imshow(torchvision.utils.make_grid(batch), 'Original')\n",
    "    plt.show()\n",
    "    imshow(torchvision.utils.make_grid(rec.detach()), 'Reconstructed')\n",
    "    plt.show()\n",
    "    \n",
    "    # enable grads + batchnorm + dropout\n",
    "    torch.set_grad_enabled(True)\n",
    "    model.train()\n",
    "\n",
    "\n",
    "def visualize_model(data_loader):\n",
    "    # Get a random batch\n",
    "    images = next(iter(data_loader))\n",
    "    \n",
    "    visualize_model_batch(images)"
   ]
  },
  {
   "cell_type": "code",
   "execution_count": null,
   "metadata": {
    "tags": []
   },
   "outputs": [],
   "source": [
    "show_random_batch(train_loader)"
   ]
  },
  {
   "cell_type": "code",
   "execution_count": null,
   "metadata": {
    "tags": []
   },
   "outputs": [],
   "source": [
    "visualize_model(train_loader)"
   ]
  },
  {
   "cell_type": "code",
   "execution_count": null,
   "metadata": {
    "tags": []
   },
   "outputs": [],
   "source": [
    "# Download an image, encode it, and then reconstruct\n",
    "\n",
    "# Load the image\n",
    "sample_img = download_image('https://heibox.uni-heidelberg.de/f/7bb608381aae4539ba7a/?dl=1')\n",
    "\n",
    "# Preprocess the image using the transformation pipeline\n",
    "sample_tensor = transform(sample_img)\n",
    "\n",
    "# Add a batch dimension to the tensor\n",
    "sample_batch = sample_tensor.unsqueeze(0)\n",
    "\n",
    "visualize_model_batch(sample_batch)"
   ]
  },
  {
   "cell_type": "code",
   "execution_count": null,
   "metadata": {},
   "outputs": [],
   "source": []
  }
 ],
 "metadata": {
  "environment": {
   "kernel": "python3",
   "name": "pytorch-gpu.1-13.m107",
   "type": "gcloud",
   "uri": "gcr.io/deeplearning-platform-release/pytorch-gpu.1-13:m107"
  },
  "kernelspec": {
   "display_name": "Python 3 (ipykernel)",
   "language": "python",
   "name": "python3"
  },
  "language_info": {
   "codemirror_mode": {
    "name": "ipython",
    "version": 3
   },
   "file_extension": ".py",
   "mimetype": "text/x-python",
   "name": "python",
   "nbconvert_exporter": "python",
   "pygments_lexer": "ipython3",
   "version": "3.11.2"
  }
 },
 "nbformat": 4,
 "nbformat_minor": 4
}
