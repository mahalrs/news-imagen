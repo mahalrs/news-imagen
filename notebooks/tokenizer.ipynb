{
 "cells": [
  {
   "cell_type": "code",
   "execution_count": null,
   "id": "d9ab399e-99b5-4073-a94f-6cd2022b68c3",
   "metadata": {},
   "outputs": [],
   "source": [
    "import sys\n",
    "sys.path.append('../src')"
   ]
  },
  {
   "cell_type": "code",
   "execution_count": null,
   "id": "aef63488-80c2-49f7-a66f-6cac178f5caf",
   "metadata": {},
   "outputs": [],
   "source": [
    "import torch\n",
    "\n",
    "from newsgen.tokenizer import NewsgenTokenizer"
   ]
  },
  {
   "cell_type": "code",
   "execution_count": null,
   "id": "59638007-c52a-4417-962e-5a07d441e097",
   "metadata": {},
   "outputs": [],
   "source": [
    "device = 'cuda' if torch.cuda.is_available() else 'cpu'\n",
    "tok = NewsgenTokenizer('../src/pretrained/exp1.ckpt', device)"
   ]
  },
  {
   "cell_type": "code",
   "execution_count": null,
   "id": "7ebfb208-6854-4742-aaee-6c23ce1e0ef1",
   "metadata": {},
   "outputs": [],
   "source": [
    "inputs = ['Hello, my dog is cute', 'Hello, my cat is cute']"
   ]
  },
  {
   "cell_type": "code",
   "execution_count": null,
   "id": "026a9099-cba9-4f32-a1e8-de4068509f40",
   "metadata": {},
   "outputs": [],
   "source": [
    "tok.encode_text(inputs[0])['input_ids'].shape"
   ]
  },
  {
   "cell_type": "code",
   "execution_count": null,
   "id": "9cb7f84e-df81-4fa5-81e6-adcf008d8729",
   "metadata": {},
   "outputs": [],
   "source": [
    "tok.encode_text_batch(inputs)['input_ids'].shape"
   ]
  },
  {
   "cell_type": "code",
   "execution_count": null,
   "id": "0f0311b4-971f-4edb-b1cb-9d907a2cc2d1",
   "metadata": {},
   "outputs": [],
   "source": [
    "import io\n",
    "\n",
    "import torchvision\n",
    "import numpy as np\n",
    "import matplotlib.pyplot as plt\n",
    "import requests\n",
    "\n",
    "from PIL import Image\n",
    "\n",
    "\n",
    "def download_image(url):\n",
    "    resp = requests.get(url)\n",
    "    resp.raise_for_status()\n",
    "    return Image.open(io.BytesIO(resp.content))\n",
    "\n",
    "\n",
    "def imshow(img, title=None):\n",
    "    img = img.cpu()\n",
    "    img = img / 2 + 0.5  # unnormalize\n",
    "    npimg = img.numpy()\n",
    "    img = np.transpose(npimg, (1, 2, 0))\n",
    "    plt.imshow(img)\n",
    "    if title is not None:\n",
    "        plt.title(title)\n",
    "    plt.axis('off')"
   ]
  },
  {
   "cell_type": "code",
   "execution_count": null,
   "id": "ae9a6d0c-715a-44c6-b91b-04a5902ed7b7",
   "metadata": {},
   "outputs": [],
   "source": [
    "sample_img = download_image('https://heibox.uni-heidelberg.de/f/7bb608381aae4539ba7a/?dl=1')"
   ]
  },
  {
   "cell_type": "code",
   "execution_count": null,
   "id": "52772b30-b912-415b-945a-7df7123f0f10",
   "metadata": {},
   "outputs": [],
   "source": [
    "indices = tok.encode_image(sample_img)"
   ]
  },
  {
   "cell_type": "code",
   "execution_count": null,
   "id": "8fe3471e-9a4c-4de4-9a5b-35fdc1b36172",
   "metadata": {},
   "outputs": [],
   "source": [
    "indices.shape"
   ]
  },
  {
   "cell_type": "code",
   "execution_count": null,
   "id": "e392d29e-e6d5-47ab-a848-150f96b99dc7",
   "metadata": {},
   "outputs": [],
   "source": [
    "indices = indices.unsqueeze(0)"
   ]
  },
  {
   "cell_type": "code",
   "execution_count": null,
   "id": "7cdbfd73-e75f-4dd3-9fdc-5a9831b63149",
   "metadata": {},
   "outputs": [],
   "source": [
    "indices.shape"
   ]
  },
  {
   "cell_type": "code",
   "execution_count": null,
   "id": "837f118b-ef4a-4cc7-9ba6-6cbbac78611c",
   "metadata": {},
   "outputs": [],
   "source": [
    "rec = tok.decode_images_code(indices)\n",
    "imshow(torchvision.utils.make_grid(rec.detach()))\n",
    "plt.show()"
   ]
  },
  {
   "cell_type": "code",
   "execution_count": null,
   "id": "9028e0bf-1a16-4e9a-8692-94bcc3f4a444",
   "metadata": {},
   "outputs": [],
   "source": [
    "# Batch of images\n",
    "indices = tok.encode_image_batch([sample_img, sample_img])"
   ]
  },
  {
   "cell_type": "code",
   "execution_count": null,
   "id": "c301a409-e86a-4bc7-bffd-a4345fd51586",
   "metadata": {},
   "outputs": [],
   "source": [
    "indices.shape"
   ]
  },
  {
   "cell_type": "code",
   "execution_count": null,
   "id": "72d2f9eb-2317-409f-a201-ceab4f73df6d",
   "metadata": {},
   "outputs": [],
   "source": [
    "rec = tok.decode_images_code(indices)\n",
    "imshow(torchvision.utils.make_grid(rec.detach()))\n",
    "plt.show()"
   ]
  },
  {
   "cell_type": "code",
   "execution_count": null,
   "id": "c201d5c0-bb0f-40f0-b9a0-d2c8ebb50972",
   "metadata": {},
   "outputs": [],
   "source": []
  }
 ],
 "metadata": {
  "environment": {
   "kernel": "python3",
   "name": "pytorch-gpu.1-13.m107",
   "type": "gcloud",
   "uri": "gcr.io/deeplearning-platform-release/pytorch-gpu.1-13:m107"
  },
  "kernelspec": {
   "display_name": "Python 3",
   "language": "python",
   "name": "python3"
  },
  "language_info": {
   "codemirror_mode": {
    "name": "ipython",
    "version": 3
   },
   "file_extension": ".py",
   "mimetype": "text/x-python",
   "name": "python",
   "nbconvert_exporter": "python",
   "pygments_lexer": "ipython3",
   "version": "3.7.12"
  }
 },
 "nbformat": 4,
 "nbformat_minor": 5
}
