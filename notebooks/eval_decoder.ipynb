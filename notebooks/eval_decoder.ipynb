{
 "cells": [
  {
   "cell_type": "markdown",
   "id": "6c60b45e-617d-4f1d-9ee2-c96dd785e65d",
   "metadata": {},
   "source": [
    "## Evaluate BART Decoder"
   ]
  },
  {
   "cell_type": "code",
   "execution_count": null,
   "id": "e73f1165-0814-4af6-b7a8-27bcf83f488d",
   "metadata": {},
   "outputs": [],
   "source": [
    "import sys\n",
    "sys.path.append('../src')"
   ]
  },
  {
   "cell_type": "code",
   "execution_count": null,
   "id": "00b2c801-4324-49e1-b6f0-72b28b7b3585",
   "metadata": {},
   "outputs": [],
   "source": [
    "import json\n",
    "import os\n",
    "\n",
    "import torch\n",
    "import lightning.pytorch as pl\n",
    "from torchvision import transforms\n",
    "from torch.utils.data import Dataset, DataLoader\n",
    "from PIL import Image\n",
    "\n",
    "from newsgen.base_model import NewsgenBase"
   ]
  },
  {
   "cell_type": "code",
   "execution_count": null,
   "id": "3e0312fe-f670-48af-935c-e7e926662ddf",
   "metadata": {},
   "outputs": [],
   "source": [
    "class VQVisualNewsDataset(Dataset):\n",
    "\n",
    "    def __init__(self, visual_news_dataset_dir, split, transform):\n",
    "        self.image_paths = self.get_image_paths(visual_news_dataset_dir, split)\n",
    "        self.transform = transform\n",
    "\n",
    "    def __len__(self):\n",
    "        return len(self.image_paths)\n",
    "\n",
    "    def __getitem__(self, idx):\n",
    "        sample = self.image_paths[idx]\n",
    "\n",
    "        try:\n",
    "            img = Image.open(sample[0]).convert('RGB')\n",
    "            return self.transform(img), sample[1]\n",
    "        except Exception as exc:\n",
    "            print(exc)\n",
    "            return None\n",
    "\n",
    "    def get_image_paths(self, dataset_dir, split):\n",
    "        assert split in ['train', 'val', 'test'], f'Invalid split: {split}'\n",
    "\n",
    "        img_paths = []\n",
    "\n",
    "        with open(os.path.join(dataset_dir, 'captions.json'), 'r') as f:\n",
    "            for story in json.load(f)[split]:\n",
    "                img_paths.append((os.path.join(dataset_dir, story['image_path'][2:]), story['caption']))\n",
    "\n",
    "        return img_paths"
   ]
  },
  {
   "cell_type": "code",
   "execution_count": null,
   "id": "fd280f5b-c541-4201-90ee-d9459f33b21e",
   "metadata": {},
   "outputs": [],
   "source": [
    "transform = transforms.Compose([\n",
    "    transforms.Resize((256, 256)),\n",
    "    transforms.ToTensor(),\n",
    "    transforms.Normalize(mean=[0.5, 0.5, 0.5], std=[0.5, 0.5, 0.5])\n",
    "])"
   ]
  },
  {
   "cell_type": "code",
   "execution_count": null,
   "id": "bdb4b69c-80c8-464c-aaa6-47d770f1400d",
   "metadata": {},
   "outputs": [],
   "source": [
    "test_set = VQVisualNewsDataset('../src/data/visual_news_mini', 'test', transform)\n",
    "test_loader = DataLoader(test_set,\n",
    "                         batch_size=4,\n",
    "                         shuffle=False,\n",
    "                         num_workers=0,\n",
    "                         pin_memory=True)"
   ]
  },
  {
   "cell_type": "code",
   "execution_count": null,
   "id": "14920478-36a7-4076-8a4c-19c9999de753",
   "metadata": {},
   "outputs": [],
   "source": [
    "test_iter = iter(test_loader)\n",
    "images, captions = next(test_iter)"
   ]
  },
  {
   "cell_type": "code",
   "execution_count": null,
   "id": "cd9dc2e3-5fff-4a79-ad15-1c3cf279251a",
   "metadata": {},
   "outputs": [],
   "source": [
    "with open('../src/hparams_vqgan.json', 'r') as f:\n",
    "    vqgan_hparams = json.load(f)"
   ]
  },
  {
   "cell_type": "code",
   "execution_count": null,
   "id": "57f64dfc-8526-4b16-b944-bc3f11922639",
   "metadata": {},
   "outputs": [],
   "source": [
    "model = NewsgenBase.load_from_checkpoint('../src/pretrained/last.ckpt')\n",
    "model.init_tokenizer('../src/pretrained/vqgan.ckpt', vqgan_hparams)"
   ]
  },
  {
   "cell_type": "code",
   "execution_count": null,
   "id": "59a977f5-da69-4453-8b15-65916852243f",
   "metadata": {},
   "outputs": [],
   "source": [
    "encoded_text = model.tokenizer.encode_text_batch(captions)\n",
    "input_ids = encoded_text['input_ids']\n",
    "attention_mask = encoded_text['attention_mask']"
   ]
  },
  {
   "cell_type": "code",
   "execution_count": null,
   "id": "032ada7b-1ddb-4565-9fd3-62ddf4a99112",
   "metadata": {},
   "outputs": [],
   "source": [
    "model = model.to('cuda')\n",
    "input_ids = input_ids.to('cuda')\n",
    "attention_mask = attention_mask.to('cuda')\n",
    "out = model.generate(input_ids, attention_mask)"
   ]
  },
  {
   "cell_type": "code",
   "execution_count": null,
   "id": "44578efb-e881-44f5-8984-ddb76198ee13",
   "metadata": {},
   "outputs": [],
   "source": [
    "out = out.cpu()\n",
    "out = model.tokenizer.decode_images_code(out)"
   ]
  },
  {
   "cell_type": "code",
   "execution_count": null,
   "id": "c7da9c94-f0de-41fe-a992-7ade2531247c",
   "metadata": {},
   "outputs": [],
   "source": [
    "import torchvision\n",
    "import numpy as np\n",
    "import matplotlib.pyplot as plt\n",
    "\n",
    "def imshow(img, title=None):\n",
    "    img = img / 2 + 0.5  # unnormalize\n",
    "    npimg = img.numpy()\n",
    "    img = np.transpose(npimg, (1, 2, 0))\n",
    "    plt.imshow(img)\n",
    "    if title is not None:\n",
    "        plt.title(title)\n",
    "    plt.axis('off')"
   ]
  },
  {
   "cell_type": "code",
   "execution_count": null,
   "id": "c5bacf4f-5301-46bb-96ff-665932a649ec",
   "metadata": {},
   "outputs": [],
   "source": [
    "imshow(torchvision.utils.make_grid(images))\n",
    "plt.show()"
   ]
  },
  {
   "cell_type": "code",
   "execution_count": null,
   "id": "54d5289f-f927-4fa0-9f58-57be61c1a9f8",
   "metadata": {},
   "outputs": [],
   "source": [
    "imshow(torchvision.utils.make_grid(out.detach()))\n",
    "plt.show()"
   ]
  },
  {
   "cell_type": "code",
   "execution_count": null,
   "id": "0a77279a-bbd3-4a4e-818d-e7fb3499f247",
   "metadata": {},
   "outputs": [],
   "source": []
  }
 ],
 "metadata": {
  "environment": {
   "kernel": "python3",
   "name": "pytorch-gpu.1-13.m107",
   "type": "gcloud",
   "uri": "gcr.io/deeplearning-platform-release/pytorch-gpu.1-13:m107"
  },
  "kernelspec": {
   "display_name": "Python 3 (ipykernel)",
   "language": "python",
   "name": "python3"
  },
  "language_info": {
   "codemirror_mode": {
    "name": "ipython",
    "version": 3
   },
   "file_extension": ".py",
   "mimetype": "text/x-python",
   "name": "python",
   "nbconvert_exporter": "python",
   "pygments_lexer": "ipython3",
   "version": "3.11.3"
  }
 },
 "nbformat": 4,
 "nbformat_minor": 5
}
